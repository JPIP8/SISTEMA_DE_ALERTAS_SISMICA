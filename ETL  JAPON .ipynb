{
 "cells": [
  {
   "cell_type": "code",
   "execution_count": 1,
   "metadata": {},
   "outputs": [
    {
     "ename": "ModuleNotFoundError",
     "evalue": "No module named 'selenium'",
     "output_type": "error",
     "traceback": [
      "\u001b[1;31m---------------------------------------------------------------------------\u001b[0m",
      "\u001b[1;31mModuleNotFoundError\u001b[0m                       Traceback (most recent call last)",
      "Cell \u001b[1;32mIn[1], line 1\u001b[0m\n\u001b[1;32m----> 1\u001b[0m \u001b[38;5;28;01mfrom\u001b[39;00m \u001b[38;5;21;01mselenium\u001b[39;00m \u001b[38;5;28;01mimport\u001b[39;00m webdriver\n\u001b[0;32m      2\u001b[0m \u001b[38;5;28;01mfrom\u001b[39;00m \u001b[38;5;21;01mselenium\u001b[39;00m\u001b[38;5;21;01m.\u001b[39;00m\u001b[38;5;21;01mwebdriver\u001b[39;00m\u001b[38;5;21;01m.\u001b[39;00m\u001b[38;5;21;01mcommon\u001b[39;00m\u001b[38;5;21;01m.\u001b[39;00m\u001b[38;5;21;01mby\u001b[39;00m \u001b[38;5;28;01mimport\u001b[39;00m By\n\u001b[0;32m      3\u001b[0m \u001b[38;5;28;01mfrom\u001b[39;00m \u001b[38;5;21;01mselenium\u001b[39;00m\u001b[38;5;21;01m.\u001b[39;00m\u001b[38;5;21;01mwebdriver\u001b[39;00m\u001b[38;5;21;01m.\u001b[39;00m\u001b[38;5;21;01msupport\u001b[39;00m\u001b[38;5;21;01m.\u001b[39;00m\u001b[38;5;21;01mui\u001b[39;00m \u001b[38;5;28;01mimport\u001b[39;00m WebDriverWait\n",
      "\u001b[1;31mModuleNotFoundError\u001b[0m: No module named 'selenium'"
     ]
    }
   ],
   "source": [
    "\n",
    "from selenium import webdriver\n",
    "from selenium.webdriver.common.by import By\n",
    "from selenium.webdriver.support.ui import WebDriverWait\n",
    "from selenium.webdriver.support import expected_conditions as EC\n",
    "import requests\n",
    "from bs4 import BeautifulSoup\n",
    "import pandas as pd\n"
   ]
  },
  {
   "cell_type": "code",
   "execution_count": 16,
   "metadata": {},
   "outputs": [],
   "source": [
    "\n",
    "# Define la URL de la página que deseas extraer\n",
    "url = 'https://ejemplo.com'\n",
    "\n",
    "# Configura el controlador de Selenium para abrir la página en un navegador\n",
    "driver = webdriver.Chrome()\n",
    "driver.get(url)\n",
    "\n",
    "# Espera a que la tabla cargue completamente\n",
    "wait = WebDriverWait(driver, 10)\n",
    "tabla = wait.until(EC.presence_of_element_located((By.ID, 'id_de_la_tabla')))\n",
    "\n",
    "# Extrae los datos de la tabla\n",
    "datos = []\n",
    "filas = tabla.find_elements_by_tag_name('tr')\n",
    "for fila in filas[1:]:\n",
    "    columnas = fila.find_elements_by_tag_name('td')\n",
    "    dato_1 = columnas[0].text\n",
    "    dato_2 = columnas[1].text\n",
    "    dato_3 = columnas[2].text\n",
    "    datos.append([dato_1, dato_2, dato_3])\n",
    "\n",
    "# Crea un dataframe de pandas con los datos extraídos de la tabla\n",
    "df = pd.DataFrame(datos, columns=['Columna_1', 'Columna_2', 'Columna_3'])\n",
    "\n",
    "# Cierra el navegador\n",
    "driver.quit()\n",
    "\n",
    "# Guarda el dataframe en un archivo CSV\n",
    "df.to_csv('datos_extraidos.csv', index=False)\n",
    "\n",
    "# Imprime el dataframe para verificar que se haya creado correctamente\n",
    "print(df)\n"
   ]
  },
  {
   "cell_type": "code",
   "execution_count": 65,
   "metadata": {},
   "outputs": [],
   "source": [
    "soup = BeautifulSoup(response.content, 'html.parser')\n"
   ]
  },
  {
   "cell_type": "code",
   "execution_count": 66,
   "metadata": {},
   "outputs": [],
   "source": [
    "tabla = soup.find('table', {'id':'quakeindex_table'}).find_all('th')\n"
   ]
  },
  {
   "cell_type": "code",
   "execution_count": 67,
   "metadata": {},
   "outputs": [
    {
     "data": {
      "text/plain": [
       "[<th class=\"quaketable_col01\" id=\"quaketable_col01\" scope=\"col\"></th>,\n",
       " <th class=\"quaketable_col02\" id=\"quaketable_col02\" scope=\"col\"></th>,\n",
       " <th class=\"quaketable_col03\" id=\"quaketable_col03\" scope=\"col\"></th>,\n",
       " <th class=\"quaketable_col04\" id=\"quaketable_col04\" scope=\"col\"></th>,\n",
       " <th class=\"quaketable_col05\" id=\"quaketable_col05\" scope=\"col\"></th>]"
      ]
     },
     "execution_count": 67,
     "metadata": {},
     "output_type": "execute_result"
    }
   ],
   "source": [
    "tabla"
   ]
  },
  {
   "cell_type": "code",
   "execution_count": 20,
   "metadata": {},
   "outputs": [
    {
     "name": "stdout",
     "output_type": "stream",
     "text": [
      "Empty DataFrame\n",
      "Columns: [Hora, Ubicacion, Magnitud, Intensidad, Emitido]\n",
      "Index: []\n"
     ]
    }
   ],
   "source": [
    "# Crea un dataframe de pandas con los datos extraídos de la tabla\n",
    "df = pd.DataFrame(datos, columns=['Hora', 'Ubicacion', 'Magnitud', 'Intensidad', 'Emitido'])\n",
    "\n",
    "# Guarda el dataframe en un archivo CSV\n",
    "df.to_csv('datos_terremotos.csv', index=False)\n",
    "\n",
    "# Imprime el dataframe para verificar que se haya creado correctamente\n",
    "print(df)"
   ]
  }
 ],
 "metadata": {
  "kernelspec": {
   "display_name": "Python 3.10.11 64-bit (microsoft store)",
   "language": "python",
   "name": "python3"
  },
  "language_info": {
   "codemirror_mode": {
    "name": "ipython",
    "version": 3
   },
   "file_extension": ".py",
   "mimetype": "text/x-python",
   "name": "python",
   "nbconvert_exporter": "python",
   "pygments_lexer": "ipython3",
   "version": "3.10.11"
  },
  "orig_nbformat": 4,
  "vscode": {
   "interpreter": {
    "hash": "aee16f435bc26b65a68b4c446c03532027973516a59d0105ffc6164732c6dd5b"
   }
  }
 },
 "nbformat": 4,
 "nbformat_minor": 2
}
