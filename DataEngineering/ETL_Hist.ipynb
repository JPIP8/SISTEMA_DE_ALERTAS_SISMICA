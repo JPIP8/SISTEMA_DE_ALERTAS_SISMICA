{
 "cells": [
  {
   "cell_type": "code",
   "execution_count": 3,
   "metadata": {},
   "outputs": [],
   "source": [
    "import pandas as pd\n",
    "import requests\n",
    "\n",
    "#para normalizar fechas\n",
    "from datetime import datetime\n",
    "#para obtener fechas\n",
    "import time\n"
   ]
  },
  {
   "cell_type": "code",
   "execution_count": 4,
   "metadata": {},
   "outputs": [],
   "source": [
    "url_usa = f'https://earthquake.usgs.gov/fdsnws/event/1/query?format=csv&starttime=2012-01-01%2000:00:00&endtime=2023-12-31%2023:59:59&maxlatitude=50&minlatitude=24.6&maxlongitude=-65&minlongitude=-125&minmagnitude=3&orderby=time-asc'\n",
    "dt_in_usa=pd.read_csv(url_usa,delimiter=',')\n",
    "\n",
    "url_japan = f'https://earthquake.usgs.gov/fdsnws/event/1/query?format=csv&starttime=2012-01-01%2000:00:00&endtime=2023-12-31%2023:59:59&minlatitude=27.000000&maxlatitude=44.000000&minlongitude=132.780000&maxlongitude=145.530000&&minmagnitude=3&orderby=time-asc'\n",
    "dt_in_jap=pd.read_csv(url_japan,delimiter=',')\n",
    "\n",
    "url_chile = f'https://earthquake.usgs.gov/fdsnws/event/1/query?format=csv&starttime=2012-01-01%2000:00:00&endtime=2023-12-31%2023:59:59&minlatitude=-56.800000&maxlatitude=-19.000000&minlongitude=-79.000000&maxlongitude=-69.900000&jsonerror=true'\n",
    "dt_in_ch=pd.read_csv(url_chile,delimiter=\",\")"
   ]
  },
  {
   "cell_type": "code",
   "execution_count": 5,
   "metadata": {},
   "outputs": [],
   "source": [
    "def transformar_fecha(dato):\n",
    "    fecha_sin_tz = dato.replace(\"T\", \" \").replace(\"Z\", \"\")\n",
    "    fecha_objeto = datetime.strptime(fecha_sin_tz, \"%Y-%m-%d %H:%M:%S.%f\")\n",
    "    fecha_formateada = fecha_objeto.strftime(\"%Y/%m/%d %H:%M:%S\")\n",
    "    return fecha_formateada"
   ]
  },
  {
   "cell_type": "code",
   "execution_count": 19,
   "metadata": {},
   "outputs": [],
   "source": [
    "def generat_dat (df,pais:str):\n",
    "    df[\"place\"]=df[\"place\"].fillna(\"no data\")\n",
    "    df=df.fillna(0)\n",
    "    df=df.drop_duplicates()\n",
    "    df=df[[\"time\",\"latitude\",\"longitude\",\"depth\",\"mag\",\"place\"]]\n",
    "    df['time'] = df['time'].apply(lambda x: transformar_fecha(x))\n",
    "    df.rename(columns={'latitude':'lat', 'longitude':'lng' }, inplace=True)\n",
    "    df[\"country\"]=pais\n",
    "       \n",
    "    return df\n",
    "    "
   ]
  },
  {
   "cell_type": "code",
   "execution_count": 20,
   "metadata": {},
   "outputs": [],
   "source": [
    "dt_his_usa=generat_dat(dt_in_usa,\"USA\")\n",
    "dt_his_chil=generat_dat(dt_in_ch,\"CHILE\")\n",
    "dt_his_jap=generat_dat(dt_in_jap,\"JAPAN\")"
   ]
  }
 ],
 "metadata": {
  "kernelspec": {
   "display_name": "Python 3",
   "language": "python",
   "name": "python3"
  },
  "language_info": {
   "codemirror_mode": {
    "name": "ipython",
    "version": 3
   },
   "file_extension": ".py",
   "mimetype": "text/x-python",
   "name": "python",
   "nbconvert_exporter": "python",
   "pygments_lexer": "ipython3",
   "version": "3.10.11"
  },
  "orig_nbformat": 4
 },
 "nbformat": 4,
 "nbformat_minor": 2
}
