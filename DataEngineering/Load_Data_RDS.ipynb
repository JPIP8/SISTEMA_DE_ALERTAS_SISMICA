{
 "cells": [
  {
   "cell_type": "code",
   "execution_count": 2,
   "metadata": {},
   "outputs": [],
   "source": [
    "#LIBRERIAS NECESARIAS:\n",
    "#Para utilizar API\n",
    "import requests\n",
    "#Para realizar la estructura tabular\n",
    "import pandas as pd\n",
    "#Para rellenar vacíos\n",
    "import numpy as np\n",
    "import json\n",
    "\n",
    "#ETL:\n",
    "\n",
    "#para normalizar strings\n",
    "from unicodedata import normalize\n",
    "#para normalizar incluyendo la ñ\n",
    "import re \n",
    "#para normalizar fechas\n",
    "import datetime\n",
    "#para obtener fechas\n",
    "import time\n",
    "#hacer los calendarios de iteración\n",
    "from dateutil.rrule import rrule, DAILY , MONTHLY\n",
    "\n",
    "import mysql.connector\n",
    "from sqlalchemy import create_engine\n",
    "\n",
    "#para normalizar fechas\n",
    "from datetime import datetime\n",
    "#para obtener fechas\n",
    "import time\n",
    "\n",
    "dic={}"
   ]
  },
  {
   "attachments": {},
   "cell_type": "markdown",
   "metadata": {},
   "source": [
    "<span style=\"font-size: 20px; color:cyan; font-weight: bold;\"> - Conexión al  servidos RDS</span>"
   ]
  },
  {
   "cell_type": "code",
   "execution_count": 4,
   "metadata": {},
   "outputs": [],
   "source": [
    "host = \"database-alertas-sismicas.crcnepco0igw.us-east-1.rds.amazonaws.com\"\n",
    "user = \"admin\"\n",
    "password = \"admin4168\"\n",
    "database = \"alertasSismicas\"\n"
   ]
  },
  {
   "cell_type": "code",
   "execution_count": 5,
   "metadata": {},
   "outputs": [],
   "source": [
    "con=create_engine(f\"mysql+mysqlconnector://{user}:{password}@{host}/{database}\")"
   ]
  },
  {
   "cell_type": "code",
   "execution_count": 20,
   "metadata": {},
   "outputs": [],
   "source": [
    "connection = mysql.connector.connect(\n",
    "    host=host,\n",
    "    user=user,\n",
    "    password=password,\n",
    "    database=database\n",
    ")\n"
   ]
  },
  {
   "attachments": {},
   "cell_type": "markdown",
   "metadata": {},
   "source": [
    "<span style=\"font-size: 20px; color:cyan; font-weight: bold;\"> - Creation of data tables.</span>"
   ]
  },
  {
   "cell_type": "code",
   "execution_count": 7,
   "metadata": {},
   "outputs": [],
   "source": [
    "data_countries = 'DROP TABLE IF EXISTS COUNTRIES CASCADE; CREATE TABLE COUNTRIES (idcountry INTEGER AUTO_INCREMENT PRIMARY KEY NOT NULL ,country text);'\n",
    "data_jap = 'DROP TABLE IF EXISTS JAPAN CASCADE; CREATE TABLE JAPAN (idsismo SERIAL PRIMARY KEY NOT NULL,idcountry INTEGER,foreign key (idcountry) references COUNTRIES(idcountry),mag float8, place text,time timestamp,tsunami text,lng float8, lat float8,depth float8, danger smallint);'\n",
    "data_usa = 'DROP TABLE IF EXISTS USA CASCADE; CREATE TABLE USA (idsismo SERIAL PRIMARY KEY NOT NULL,idcountry INTEGER,foreign key (idcountry) references COUNTRIES(idcountry),mag float8, place text,time timestamp,tsunami text,lng float8, lat float8,depth float8, danger smallint);'\n",
    "data_chile = 'DROP TABLE IF EXISTS CHILE CASCADE; CREATE TABLE CHILE (idsismo SERIAL PRIMARY KEY NOT NULL,idcountry INTEGER,foreign key (idcountry) references COUNTRIES(idcountry),mag float8, place text,time timestamp,tsunami text,lng float8, lat float8,depth float8, danger smallint);'\n",
    "data_fact = 'DROP TABLE IF EXISTS FACTS CASCADE; CREATE TABLE FACTS (idsismo SERIAL PRIMARY KEY NOT NULL,idcountry INTEGER,foreign key (idcountry) references COUNTRIES(idcountry),mag float8, place text,time timestamp,tsunami text,lng float8, lat float8,depth float8, danger smallint);'\n",
    "data_tsu = 'DROP TABLE IF EXISTS TSUNAMIS CASCADE; CREATE TABLE TSUNAMIS (id SERIAL PRIMARY KEY NOT NULL ,idcountry INTEGER,foreign key (idcountry) references COUNTRIES(idcountry),mxwatheight float8, place text, time timestamp, mag float8, lng float8, lat float8, depth float8);'"
   ]
  },
  {
   "cell_type": "code",
   "execution_count": 11,
   "metadata": {},
   "outputs": [
    {
     "data": {
      "text/plain": [
       "True"
      ]
     },
     "execution_count": 11,
     "metadata": {},
     "output_type": "execute_result"
    }
   ],
   "source": [
    "cursor=connection.cursor()\n",
    "cursor.execute(data_countries)\n",
    "cursor.close()"
   ]
  },
  {
   "cell_type": "code",
   "execution_count": 13,
   "metadata": {},
   "outputs": [
    {
     "data": {
      "text/plain": [
       "True"
      ]
     },
     "execution_count": 13,
     "metadata": {},
     "output_type": "execute_result"
    }
   ],
   "source": [
    "cursor=connection.cursor()\n",
    "cursor.execute(data_jap)\n",
    "cursor.close()"
   ]
  },
  {
   "cell_type": "code",
   "execution_count": 15,
   "metadata": {},
   "outputs": [
    {
     "data": {
      "text/plain": [
       "True"
      ]
     },
     "execution_count": 15,
     "metadata": {},
     "output_type": "execute_result"
    }
   ],
   "source": [
    "cursor=connection.cursor()\n",
    "cursor.execute(data_chile)\n",
    "cursor.close()"
   ]
  },
  {
   "cell_type": "code",
   "execution_count": 17,
   "metadata": {},
   "outputs": [
    {
     "data": {
      "text/plain": [
       "True"
      ]
     },
     "execution_count": 17,
     "metadata": {},
     "output_type": "execute_result"
    }
   ],
   "source": [
    "cursor=connection.cursor()\n",
    "cursor.execute(data_usa)\n",
    "cursor.close()"
   ]
  },
  {
   "cell_type": "code",
   "execution_count": 19,
   "metadata": {},
   "outputs": [
    {
     "data": {
      "text/plain": [
       "True"
      ]
     },
     "execution_count": 19,
     "metadata": {},
     "output_type": "execute_result"
    }
   ],
   "source": [
    "cursor=connection.cursor()\n",
    "cursor.execute(data_fact)\n",
    "cursor.close()"
   ]
  },
  {
   "cell_type": "code",
   "execution_count": 21,
   "metadata": {},
   "outputs": [
    {
     "data": {
      "text/plain": [
       "True"
      ]
     },
     "execution_count": 21,
     "metadata": {},
     "output_type": "execute_result"
    }
   ],
   "source": [
    "cursor=connection.cursor()\n",
    "cursor.execute(data_tsu)\n",
    "cursor.close()"
   ]
  },
  {
   "attachments": {},
   "cell_type": "markdown",
   "metadata": {},
   "source": [
    "<span style=\"font-size: 20px; color:cyan; font-weight: bold;\"> - Development of the Countries table. </span>"
   ]
  },
  {
   "cell_type": "code",
   "execution_count": 22,
   "metadata": {},
   "outputs": [],
   "source": [
    "def COUNTRIES(country):\n",
    "\n",
    "    global dic\n",
    "    if country in dic:\n",
    "        #df.to_sql(name='pais',con=cone, if_exists='replace', index=False)\n",
    "        return(dic[country])\n",
    "    else:\n",
    "        dic[country]=len(dic)+1\n",
    "        dic_pais={'COUNTRY':[country]}\n",
    "        df=pd.DataFrame(dic_pais)\n",
    "        df.to_sql(name='COUNTRIES',con=con, if_exists='append', index=False)\n",
    "        \n",
    "        return(dic[country])  \n"
   ]
  },
  {
   "cell_type": "code",
   "execution_count": 23,
   "metadata": {},
   "outputs": [
    {
     "data": {
      "text/plain": [
       "3"
      ]
     },
     "execution_count": 23,
     "metadata": {},
     "output_type": "execute_result"
    }
   ],
   "source": [
    "COUNTRIES(\"USA\")\n",
    "COUNTRIES(\"CHILE\")\n",
    "COUNTRIES(\"JAPAN\")"
   ]
  },
  {
   "attachments": {},
   "cell_type": "markdown",
   "metadata": {},
   "source": [
    "<span style=\"font-size: 20px; color:cyan; font-weight: bold;\"> - Development of the Historic table. </span>"
   ]
  },
  {
   "cell_type": "code",
   "execution_count": 24,
   "metadata": {},
   "outputs": [],
   "source": [
    "url_japan = f'https://earthquake.usgs.gov/fdsnws/event/1/query?format=csv&starttime=2010-01-01%2000:00:00&endtime=2023-12-31%2023:59:59&minlatitude=27.000000&maxlatitude=44.000000&minlongitude=132.780000&maxlongitude=145.530000&minmagnitude=3&orderby=time-asc&jsonerror=true'\n",
    "dt_in_jap=pd.read_csv(url_japan,delimiter=',')\n",
    "url_chile = f'https://earthquake.usgs.gov/fdsnws/event/1/query?format=csv&starttime=2010-01-01%2000:00:00&endtime=2023-12-31%2023:59:59&minlatitude=-56.800000&maxlatitude=-19.000000&minlongitude=-79.000000&maxlongitude=-69.&minmagnitude=3&orderby=time-asc&jsonerror=true'\n",
    "dt_in_ch=pd.read_csv(url_chile,delimiter=\",\")\n",
    "url_usa = f'https://earthquake.usgs.gov/fdsnws/event/1/query?format=csv&starttime=2010-01-01%2000:00:00&endtime=2023-12-31%2023:59:59&maxlatitude=50&minlatitude=24.6&maxlongitude=-65&minlongitude=-125&minmagnitude=3&orderby=time-asc&jsonerror=true'\n",
    "dt_in_usa=pd.read_csv(url_usa,delimiter=',')"
   ]
  },
  {
   "cell_type": "code",
   "execution_count": 25,
   "metadata": {},
   "outputs": [],
   "source": [
    "def transformar_fecha(dato):\n",
    "    fecha_sin_tz = dato.replace(\"T\", \" \").replace(\"Z\", \"\")\n",
    "    fecha_objeto = datetime.strptime(fecha_sin_tz, \"%Y-%m-%d %H:%M:%S.%f\")\n",
    "    fecha_formateada = fecha_objeto.strftime(\"%Y/%m/%d %H:%M:%S\")\n",
    "    return fecha_formateada"
   ]
  },
  {
   "cell_type": "code",
   "execution_count": 26,
   "metadata": {},
   "outputs": [],
   "source": [
    "def generat_dat (df,pais:str):\n",
    "    df[\"place\"]=df[\"place\"].fillna(\"no data\")\n",
    "    df=df.fillna(0)\n",
    "    df=df.drop_duplicates()\n",
    "    df=df[[\"mag\",\"place\",\"time\",\"longitude\",\"latitude\",\"depth\"]]\n",
    "    df['time'] = df['time'].apply(lambda x: transformar_fecha(x))\n",
    "    df.rename(columns={'latitude':'lat', 'longitude':'lng' }, inplace=True)\n",
    "    df[\"idcountry\"]=COUNTRIES(pais)\n",
    "    df[\"tsunami\"]=0\n",
    "    df[\"danger\"]=\"1\"\n",
    "    df=df[[\"idcountry\",\"mag\",\"place\",\"time\",\"tsunami\",\"lng\",\"lat\",\"depth\",\"danger\"]]\n",
    "    \n",
    "       \n",
    "    return df\n",
    "    "
   ]
  },
  {
   "cell_type": "code",
   "execution_count": 27,
   "metadata": {},
   "outputs": [],
   "source": [
    "dt_his_usa=generat_dat(dt_in_usa,\"USA\")\n",
    "dt_his_chil=generat_dat(dt_in_ch,\"CHILE\")\n",
    "dt_his_jap=generat_dat(dt_in_jap,\"JAPAN\")"
   ]
  },
  {
   "cell_type": "code",
   "execution_count": 28,
   "metadata": {},
   "outputs": [
    {
     "data": {
      "text/plain": [
       "14715"
      ]
     },
     "execution_count": 28,
     "metadata": {},
     "output_type": "execute_result"
    }
   ],
   "source": [
    "dt_his_usa.to_sql(name='USA',con=con, if_exists='append', index=False)\n",
    "dt_his_usa.to_sql(name='FACTS',con=con, if_exists='append', index=False)\n",
    "\n",
    "dt_his_chil.to_sql(name='CHILE',con=con, if_exists='append', index=False)\n",
    "dt_his_chil.to_sql(name='FACTS',con=con, if_exists='append', index=False)\n",
    "\n",
    "dt_his_jap.to_sql(name='JAPAN',con=con, if_exists='append', index=False)\n",
    "dt_his_jap.to_sql(name='FACTS',con=con, if_exists='append', index=False)"
   ]
  },
  {
   "attachments": {},
   "cell_type": "markdown",
   "metadata": {},
   "source": [
    "<span style=\"font-size: 20px; color:cyan; font-weight: bold;\"> - Generate data from tsunamis. </span>"
   ]
  },
  {
   "cell_type": "code",
   "execution_count": 29,
   "metadata": {},
   "outputs": [],
   "source": [
    "url = f'https://www.ngdc.noaa.gov/hazel/hazard-service/api/v1/tsunamis/events?country=USA&maxYear=2023&minYear=2010'\n",
    "dt_usa_prev_Mar = pd.DataFrame(requests.get(url).json()['items'])\n",
    "\n",
    "url = f'https://www.ngdc.noaa.gov/hazel/hazard-service/api/v1/tsunamis/events?country=JAPAN&maxYear=2023&minYear=2010'\n",
    "dt_jap_prev_Mar = pd.DataFrame(requests.get(url).json()['items'])\n",
    "\n",
    "url = f'https://www.ngdc.noaa.gov/hazel/hazard-service/api/v1/tsunamis/events?country=CHILE&maxYear=2023&minYear=2010'\n",
    "dt_chi_prev_Mar = pd.DataFrame(requests.get(url).json()['items'])"
   ]
  },
  {
   "cell_type": "code",
   "execution_count": 30,
   "metadata": {},
   "outputs": [],
   "source": [
    "def mar(df):\n",
    "    \n",
    "    df=df.fillna(0)\n",
    "    df['time'] = pd.to_datetime(df[['year','month','day','hour','minute','second']],format='%Y/%m/%d %H:%M:%S')\n",
    "    df['time'] =df['time'].apply(lambda x: x.strftime('%Y/%m/%d %H:%M:%S'))\n",
    "    df.rename(columns={'eqMagnitude':'mag', 'eqDepth':'depth', 'latitude':'lat', 'longitude':'lng',\n",
    "    'locationName':'place', 'maxWaterHeight':'mxwatheight'}, inplace=True)\n",
    "\n",
    "\n",
    "    df['mxwatheight']  = df.mxwatheight.astype('float64')\n",
    "    df.mag=df.mag.astype('float64')\n",
    "    df.lng=df.lng.astype('float64')\n",
    "    df.lat=df.lat.astype('float64')\n",
    "    df.depth=df.depth.astype('float64')\n",
    "\n",
    "    a=df[\"country\"][1]\n",
    "    df[\"idcountry\"]=COUNTRIES(a)\n",
    "    \n",
    "    # Filtramos el dataframe con los datos relevantes.\n",
    "    df = df[['idcountry','mxwatheight','place', 'time', 'mag', 'lng','lat', 'depth' ]]\n",
    "    \n",
    "    return (df)    \n",
    "    "
   ]
  },
  {
   "cell_type": "code",
   "execution_count": 31,
   "metadata": {},
   "outputs": [],
   "source": [
    "dt_usa_Mar=mar(dt_usa_prev_Mar)\n",
    "dt_chi_Mar=mar(dt_chi_prev_Mar)\n",
    "dt_jap_Mar=mar(dt_jap_prev_Mar)"
   ]
  },
  {
   "cell_type": "code",
   "execution_count": 32,
   "metadata": {},
   "outputs": [
    {
     "data": {
      "text/plain": [
       "21"
      ]
     },
     "execution_count": 32,
     "metadata": {},
     "output_type": "execute_result"
    }
   ],
   "source": [
    "dt_usa_Mar.to_sql(name='TSUNAMIS',con=con, if_exists='append', index=False)\n",
    "dt_chi_Mar.to_sql(name='TSUNAMIS',con=con, if_exists='append', index=False)\n",
    "dt_jap_Mar.to_sql(name='TSUNAMIS',con=con, if_exists='append', index=False)"
   ]
  },
  {
   "attachments": {},
   "cell_type": "markdown",
   "metadata": {},
   "source": [
    "<span style=\"font-size: 20px; color:cyan; font-weight: bold;\"> - Falta funciòn nomralizacion tsunamis. </span>"
   ]
  },
  {
   "cell_type": "code",
   "execution_count": 80,
   "metadata": {},
   "outputs": [],
   "source": [
    "consulta=\"SELECT * FROM TSUNAMIS\"\n",
    "df13=pd.read_sql_query(consulta,con)\n",
    "#connection.close()"
   ]
  },
  {
   "cell_type": "code",
   "execution_count": 75,
   "metadata": {},
   "outputs": [],
   "source": [
    "x=\"CHILE\""
   ]
  },
  {
   "cell_type": "code",
   "execution_count": 77,
   "metadata": {},
   "outputs": [
    {
     "data": {
      "text/plain": [
       "0      2010-01-06 02:11:05\n",
       "1      2010-01-06 09:26:55\n",
       "2      2010-01-06 22:41:54\n",
       "3      2010-01-07 14:35:26\n",
       "4      2010-01-09 00:08:12\n",
       "               ...        \n",
       "9319   2023-05-13 04:51:25\n",
       "9320   2023-05-15 00:54:39\n",
       "9321   2023-05-15 06:18:33\n",
       "9322   2023-05-15 19:24:05\n",
       "9323   2023-05-16 00:53:39\n",
       "Name: time, Length: 9324, dtype: datetime64[ns]"
      ]
     },
     "execution_count": 77,
     "metadata": {},
     "output_type": "execute_result"
    }
   ],
   "source": [
    "consulta=\"SELECT * FROM \"+x+\" WHERE mag>0\"\n",
    "dfch=pd.read_sql_query(consulta,con)\n",
    "dfch[\"time\"]"
   ]
  },
  {
   "cell_type": "code",
   "execution_count": 84,
   "metadata": {},
   "outputs": [
    {
     "data": {
      "text/plain": [
       "0       0\n",
       "1       0\n",
       "2       0\n",
       "3       0\n",
       "4       0\n",
       "       ..\n",
       "9319    0\n",
       "9320    0\n",
       "9321    0\n",
       "9322    0\n",
       "9323    0\n",
       "Name: time, Length: 9324, dtype: int32"
      ]
     },
     "execution_count": 84,
     "metadata": {},
     "output_type": "execute_result"
    }
   ],
   "source": [
    "dfch[\"time\"]"
   ]
  },
  {
   "cell_type": "code",
   "execution_count": 81,
   "metadata": {},
   "outputs": [],
   "source": [
    "dfch[\"time\"]=dfch[\"time\"].isin(df13[\"time\"]).astype(int)"
   ]
  },
  {
   "cell_type": "code",
   "execution_count": 82,
   "metadata": {},
   "outputs": [],
   "source": [
    "a=dfch[\"time\"].sum()"
   ]
  }
 ],
 "metadata": {
  "kernelspec": {
   "display_name": "Python 3",
   "language": "python",
   "name": "python3"
  },
  "language_info": {
   "codemirror_mode": {
    "name": "ipython",
    "version": 3
   },
   "file_extension": ".py",
   "mimetype": "text/x-python",
   "name": "python",
   "nbconvert_exporter": "python",
   "pygments_lexer": "ipython3",
   "version": "3.10.11"
  },
  "orig_nbformat": 4
 },
 "nbformat": 4,
 "nbformat_minor": 2
}
