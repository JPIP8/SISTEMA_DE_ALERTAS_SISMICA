{
 "cells": [
  {
   "cell_type": "code",
   "execution_count": 2,
   "metadata": {},
   "outputs": [],
   "source": [
    "import pandas as pd\n",
    "import requests\n",
    "\n",
    "#para normalizar fechas\n",
    "import datetime\n",
    "#para obtener fechas\n",
    "import time"
   ]
  },
  {
   "cell_type": "code",
   "execution_count": 64,
   "metadata": {},
   "outputs": [],
   "source": [
    "# Obtenemos información a partir de la API\n",
    "\n",
    "url = f'https://www.ngdc.noaa.gov/hazel/hazard-service/api/v1/tsunamis/events?country=USA&maxYear=2023&minYear=2010'\n",
    "dt_usa_prev_Mar = pd.DataFrame(requests.get(url).json()['items'])\n",
    "\n",
    "url = f'https://www.ngdc.noaa.gov/hazel/hazard-service/api/v1/tsunamis/events?country=JAPAN&maxYear=2023&minYear=2010'\n",
    "dt_jap_prev_Mar = pd.DataFrame(requests.get(url).json()['items'])\n",
    "\n",
    "url = f'https://www.ngdc.noaa.gov/hazel/hazard-service/api/v1/tsunamis/events?country=CHILE&maxYear=2023&minYear=2010'\n",
    "dt_chi_prev_Mar = pd.DataFrame(requests.get(url).json()['items'])"
   ]
  },
  {
   "cell_type": "code",
   "execution_count": 65,
   "metadata": {},
   "outputs": [],
   "source": [
    "def mar(df):\n",
    "    \n",
    "    df=df.fillna(0)\n",
    "    df['time'] = pd.to_datetime(df[['year','month','day','hour','minute','second']],format='%Y/%m/%d %H:%M:%S')\n",
    "    df['time'] =df['time'].apply(lambda x: x.strftime('%Y/%m/%d %H:%M:%S'))\n",
    "    df.rename(columns={'eqMagnitude':'mag', 'eqDepth':'deepth', 'latitude':'lat', 'longitude':'lng',\n",
    "    'locationName':'place', 'maxWaterHeight':'mxwatheight'}, inplace=True)\n",
    "\n",
    "\n",
    "    df['mxwatheight']  = df.mxwatheight.astype('float64')\n",
    "    df.mag=df.mag.astype('float64')\n",
    "    df.lat=df.lng.astype('float64')\n",
    "    df.lat=df.lat.astype('float64')\n",
    "    df.deepth=df.deepth.astype('float64')\n",
    "\n",
    "    # Filtramos el dataframe con los datos relevantes.\n",
    "    df = df[['country','mxwatheight','place', 'time', 'mag', 'lng',\n",
    "    'lat', 'deepth' ]]\n",
    "    return (df)    "
   ]
  },
  {
   "cell_type": "code",
   "execution_count": 68,
   "metadata": {},
   "outputs": [],
   "source": [
    "dt_usa_Mar=mar(dt_usa_prev_Mar)\n",
    "dt_chi_Mar=mar(dt_chi_prev_Mar)\n",
    "dt_jap_Mar=mar(dt_jap_prev_Mar)"
   ]
  }
 ],
 "metadata": {
  "kernelspec": {
   "display_name": "Python 3",
   "language": "python",
   "name": "python3"
  },
  "language_info": {
   "codemirror_mode": {
    "name": "ipython",
    "version": 3
   },
   "file_extension": ".py",
   "mimetype": "text/x-python",
   "name": "python",
   "nbconvert_exporter": "python",
   "pygments_lexer": "ipython3",
   "version": "3.10.11"
  },
  "orig_nbformat": 4
 },
 "nbformat": 4,
 "nbformat_minor": 2
}
