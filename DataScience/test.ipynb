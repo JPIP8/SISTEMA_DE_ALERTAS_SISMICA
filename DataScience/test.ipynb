{
 "cells": [
  {
   "cell_type": "code",
   "execution_count": 21,
   "metadata": {},
   "outputs": [],
   "source": [
    "#modules\n",
    "import pickle\n",
    "import numpy as np\n",
    "from sklearn.cluster import KMeans\n",
    "import pandas as pd"
   ]
  },
  {
   "cell_type": "code",
   "execution_count": 22,
   "metadata": {},
   "outputs": [],
   "source": [
    "data_labeled = pd.read_csv('MLDataLabeled_v2.csv')"
   ]
  },
  {
   "cell_type": "code",
   "execution_count": 23,
   "metadata": {},
   "outputs": [],
   "source": [
    "test_results = data_labeled['danger']"
   ]
  },
  {
   "cell_type": "code",
   "execution_count": 24,
   "metadata": {},
   "outputs": [
    {
     "name": "stdout",
     "output_type": "stream",
     "text": [
      "cluster:8 porcentage:28.55% elements:11574\n",
      "cluster:0 porcentage:25.11% elements:10179\n",
      "cluster:2 porcentage:19.63% elements:7960\n",
      "cluster:6 porcentage:11.4% elements:4623\n",
      "cluster:7 porcentage:8.05% elements:3264\n",
      "cluster:9 porcentage:4.03% elements:1632\n",
      "cluster:5 porcentage:0.99% elements:403\n",
      "cluster:1 porcentage:0.94% elements:383\n",
      "cluster:3 porcentage:0.92% elements:373\n",
      "cluster:4 porcentage:0.37% elements:151\n",
      "Total number of elements:40542\n",
      "General performance:44.74%\n"
     ]
    }
   ],
   "source": [
    "performance = 0\n",
    "for key, value in test_results.value_counts().items():\n",
    "    rate = ((value/test_results.size)*100)\n",
    "    count = test_results[test_results==key].count()\n",
    "    if key == 0 or key == 2:\n",
    "        performance += rate\n",
    "    print('cluster:'+str(key), 'porcentage:'+ str(round(rate,2))+'%', 'elements:'+ str(count))\n",
    "print('Total number of elements:'+ str(test_results.size))\n",
    "print('General performance:'+str(round(performance,2))+'%')"
   ]
  }
 ],
 "metadata": {
  "kernelspec": {
   "display_name": "Python 3",
   "language": "python",
   "name": "python3"
  },
  "language_info": {
   "codemirror_mode": {
    "name": "ipython",
    "version": 3
   },
   "file_extension": ".py",
   "mimetype": "text/x-python",
   "name": "python",
   "nbconvert_exporter": "python",
   "pygments_lexer": "ipython3",
   "version": "3.10.10"
  },
  "orig_nbformat": 4
 },
 "nbformat": 4,
 "nbformat_minor": 2
}
